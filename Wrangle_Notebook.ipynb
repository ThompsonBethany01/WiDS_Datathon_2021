{
 "cells": [
  {
   "cell_type": "markdown",
   "metadata": {},
   "source": [
    "# WiDS Datathon 2021, Wrangling the Data\n",
    "## 1. Initial Look at the DF\n",
    "Summarizing the raw df:\n",
    "- what is the shape of the data?\n",
    "- what is the target variable? and its distribution?\n",
    "- how many nulls?\n",
    "- identify outliers/anomalies\n",
    "- and more...\n",
    "\n",
    "## 2. Prepping the Data for Exploration and Modeling\n",
    "Taking care of questions addressed above:\n",
    "- impute or remove nulls\n",
    "- handle outliers\n",
    "- split into train/validate/test\n",
    "\n",
    "## 3. Add Code into Functions in a .py File"
   ]
  },
  {
   "cell_type": "code",
   "execution_count": 1,
   "metadata": {},
   "outputs": [],
   "source": [
    "import pandas as pd\n",
    "import seaborn as sns\n",
    "import matplotlib.pyplot as plt"
   ]
  },
  {
   "cell_type": "code",
   "execution_count": 2,
   "metadata": {},
   "outputs": [],
   "source": [
    "# reading csv file into a pandas dataframe\n",
    "df = pd.read_csv('data/TrainingWiDS2021.csv', index_col=0)"
   ]
  },
  {
   "cell_type": "markdown",
   "metadata": {},
   "source": [
    "# 1. Initial Look at the Raw DF"
   ]
  },
  {
   "cell_type": "code",
   "execution_count": 3,
   "metadata": {},
   "outputs": [
    {
     "name": "stdout",
     "output_type": "stream",
     "text": [
      "There are 180 columns and 130157 observations in the df.\n"
     ]
    }
   ],
   "source": [
    "# checking the shape of the data\n",
    "print('There are', df.shape[1], 'columns and', df.shape[0], 'observations in the df.')"
   ]
  },
  {
   "cell_type": "code",
   "execution_count": 4,
   "metadata": {
    "scrolled": true
   },
   "outputs": [
    {
     "name": "stdout",
     "output_type": "stream",
     "text": [
      "Columns in the df are:\n"
     ]
    },
    {
     "data": {
      "text/plain": [
       "['encounter_id',\n",
       " 'hospital_id',\n",
       " 'age',\n",
       " 'bmi',\n",
       " 'elective_surgery',\n",
       " 'ethnicity',\n",
       " 'gender',\n",
       " 'height',\n",
       " 'hospital_admit_source',\n",
       " 'icu_admit_source',\n",
       " 'icu_id',\n",
       " 'icu_stay_type',\n",
       " 'icu_type',\n",
       " 'pre_icu_los_days',\n",
       " 'readmission_status',\n",
       " 'weight',\n",
       " 'albumin_apache',\n",
       " 'apache_2_diagnosis',\n",
       " 'apache_3j_diagnosis',\n",
       " 'apache_post_operative',\n",
       " 'arf_apache',\n",
       " 'bilirubin_apache',\n",
       " 'bun_apache',\n",
       " 'creatinine_apache',\n",
       " 'fio2_apache',\n",
       " 'gcs_eyes_apache',\n",
       " 'gcs_motor_apache',\n",
       " 'gcs_unable_apache',\n",
       " 'gcs_verbal_apache',\n",
       " 'glucose_apache',\n",
       " 'heart_rate_apache',\n",
       " 'hematocrit_apache',\n",
       " 'intubated_apache',\n",
       " 'map_apache',\n",
       " 'paco2_apache',\n",
       " 'paco2_for_ph_apache',\n",
       " 'pao2_apache',\n",
       " 'ph_apache',\n",
       " 'resprate_apache',\n",
       " 'sodium_apache',\n",
       " 'temp_apache',\n",
       " 'urineoutput_apache',\n",
       " 'ventilated_apache',\n",
       " 'wbc_apache',\n",
       " 'd1_diasbp_invasive_max',\n",
       " 'd1_diasbp_invasive_min',\n",
       " 'd1_diasbp_max',\n",
       " 'd1_diasbp_min',\n",
       " 'd1_diasbp_noninvasive_max',\n",
       " 'd1_diasbp_noninvasive_min',\n",
       " 'd1_heartrate_max',\n",
       " 'd1_heartrate_min',\n",
       " 'd1_mbp_invasive_max',\n",
       " 'd1_mbp_invasive_min',\n",
       " 'd1_mbp_max',\n",
       " 'd1_mbp_min',\n",
       " 'd1_mbp_noninvasive_max',\n",
       " 'd1_mbp_noninvasive_min',\n",
       " 'd1_resprate_max',\n",
       " 'd1_resprate_min',\n",
       " 'd1_spo2_max',\n",
       " 'd1_spo2_min',\n",
       " 'd1_sysbp_invasive_max',\n",
       " 'd1_sysbp_invasive_min',\n",
       " 'd1_sysbp_max',\n",
       " 'd1_sysbp_min',\n",
       " 'd1_sysbp_noninvasive_max',\n",
       " 'd1_sysbp_noninvasive_min',\n",
       " 'd1_temp_max',\n",
       " 'd1_temp_min',\n",
       " 'h1_diasbp_invasive_max',\n",
       " 'h1_diasbp_invasive_min',\n",
       " 'h1_diasbp_max',\n",
       " 'h1_diasbp_min',\n",
       " 'h1_diasbp_noninvasive_max',\n",
       " 'h1_diasbp_noninvasive_min',\n",
       " 'h1_heartrate_max',\n",
       " 'h1_heartrate_min',\n",
       " 'h1_mbp_invasive_max',\n",
       " 'h1_mbp_invasive_min',\n",
       " 'h1_mbp_max',\n",
       " 'h1_mbp_min',\n",
       " 'h1_mbp_noninvasive_max',\n",
       " 'h1_mbp_noninvasive_min',\n",
       " 'h1_resprate_max',\n",
       " 'h1_resprate_min',\n",
       " 'h1_spo2_max',\n",
       " 'h1_spo2_min',\n",
       " 'h1_sysbp_invasive_max',\n",
       " 'h1_sysbp_invasive_min',\n",
       " 'h1_sysbp_max',\n",
       " 'h1_sysbp_min',\n",
       " 'h1_sysbp_noninvasive_max',\n",
       " 'h1_sysbp_noninvasive_min',\n",
       " 'h1_temp_max',\n",
       " 'h1_temp_min',\n",
       " 'd1_albumin_max',\n",
       " 'd1_albumin_min',\n",
       " 'd1_bilirubin_max',\n",
       " 'd1_bilirubin_min',\n",
       " 'd1_bun_max',\n",
       " 'd1_bun_min',\n",
       " 'd1_calcium_max',\n",
       " 'd1_calcium_min',\n",
       " 'd1_creatinine_max',\n",
       " 'd1_creatinine_min',\n",
       " 'd1_glucose_max',\n",
       " 'd1_glucose_min',\n",
       " 'd1_hco3_max',\n",
       " 'd1_hco3_min',\n",
       " 'd1_hemaglobin_max',\n",
       " 'd1_hemaglobin_min',\n",
       " 'd1_hematocrit_max',\n",
       " 'd1_hematocrit_min',\n",
       " 'd1_inr_max',\n",
       " 'd1_inr_min',\n",
       " 'd1_lactate_max',\n",
       " 'd1_lactate_min',\n",
       " 'd1_platelets_max',\n",
       " 'd1_platelets_min',\n",
       " 'd1_potassium_max',\n",
       " 'd1_potassium_min',\n",
       " 'd1_sodium_max',\n",
       " 'd1_sodium_min',\n",
       " 'd1_wbc_max',\n",
       " 'd1_wbc_min',\n",
       " 'h1_albumin_max',\n",
       " 'h1_albumin_min',\n",
       " 'h1_bilirubin_max',\n",
       " 'h1_bilirubin_min',\n",
       " 'h1_bun_max',\n",
       " 'h1_bun_min',\n",
       " 'h1_calcium_max',\n",
       " 'h1_calcium_min',\n",
       " 'h1_creatinine_max',\n",
       " 'h1_creatinine_min',\n",
       " 'h1_glucose_max',\n",
       " 'h1_glucose_min',\n",
       " 'h1_hco3_max',\n",
       " 'h1_hco3_min',\n",
       " 'h1_hemaglobin_max',\n",
       " 'h1_hemaglobin_min',\n",
       " 'h1_hematocrit_max',\n",
       " 'h1_hematocrit_min',\n",
       " 'h1_inr_max',\n",
       " 'h1_inr_min',\n",
       " 'h1_lactate_max',\n",
       " 'h1_lactate_min',\n",
       " 'h1_platelets_max',\n",
       " 'h1_platelets_min',\n",
       " 'h1_potassium_max',\n",
       " 'h1_potassium_min',\n",
       " 'h1_sodium_max',\n",
       " 'h1_sodium_min',\n",
       " 'h1_wbc_max',\n",
       " 'h1_wbc_min',\n",
       " 'd1_arterial_pco2_max',\n",
       " 'd1_arterial_pco2_min',\n",
       " 'd1_arterial_ph_max',\n",
       " 'd1_arterial_ph_min',\n",
       " 'd1_arterial_po2_max',\n",
       " 'd1_arterial_po2_min',\n",
       " 'd1_pao2fio2ratio_max',\n",
       " 'd1_pao2fio2ratio_min',\n",
       " 'h1_arterial_pco2_max',\n",
       " 'h1_arterial_pco2_min',\n",
       " 'h1_arterial_ph_max',\n",
       " 'h1_arterial_ph_min',\n",
       " 'h1_arterial_po2_max',\n",
       " 'h1_arterial_po2_min',\n",
       " 'h1_pao2fio2ratio_max',\n",
       " 'h1_pao2fio2ratio_min',\n",
       " 'aids',\n",
       " 'cirrhosis',\n",
       " 'hepatic_failure',\n",
       " 'immunosuppression',\n",
       " 'leukemia',\n",
       " 'lymphoma',\n",
       " 'solid_tumor_with_metastasis',\n",
       " 'diabetes_mellitus']"
      ]
     },
     "execution_count": 4,
     "metadata": {},
     "output_type": "execute_result"
    }
   ],
   "source": [
    "print('Columns in the df are:')\n",
    "df.columns.to_list()"
   ]
  },
  {
   "cell_type": "markdown",
   "metadata": {},
   "source": [
    "### There are a large amount of columns in the data. Will these all be useful? Can some be removed due to poor data quality (high nulls)?"
   ]
  },
  {
   "cell_type": "code",
   "execution_count": 5,
   "metadata": {},
   "outputs": [],
   "source": [
    "# creating dataframe of null count for each column\n",
    "null_counts = pd.DataFrame(df.isnull().sum())\n",
    "\n",
    "# renaming count column\n",
    "null_counts.columns = ['nulls']"
   ]
  },
  {
   "cell_type": "code",
   "execution_count": 6,
   "metadata": {},
   "outputs": [],
   "source": [
    "# creating column in null counts for the percentage of the column that is nulls\n",
    "null_counts['percent'] = round((null_counts.nulls / df.shape[0]) * 100,2)"
   ]
  },
  {
   "cell_type": "code",
   "execution_count": 7,
   "metadata": {},
   "outputs": [
    {
     "data": {
      "text/html": [
       "<div>\n",
       "<style scoped>\n",
       "    .dataframe tbody tr th:only-of-type {\n",
       "        vertical-align: middle;\n",
       "    }\n",
       "\n",
       "    .dataframe tbody tr th {\n",
       "        vertical-align: top;\n",
       "    }\n",
       "\n",
       "    .dataframe thead th {\n",
       "        text-align: right;\n",
       "    }\n",
       "</style>\n",
       "<table border=\"1\" class=\"dataframe\">\n",
       "  <thead>\n",
       "    <tr style=\"text-align: right;\">\n",
       "      <th></th>\n",
       "      <th>nulls</th>\n",
       "      <th>percent</th>\n",
       "    </tr>\n",
       "  </thead>\n",
       "  <tbody>\n",
       "    <tr>\n",
       "      <th>encounter_id</th>\n",
       "      <td>0</td>\n",
       "      <td>0.00</td>\n",
       "    </tr>\n",
       "    <tr>\n",
       "      <th>hospital_id</th>\n",
       "      <td>0</td>\n",
       "      <td>0.00</td>\n",
       "    </tr>\n",
       "    <tr>\n",
       "      <th>age</th>\n",
       "      <td>4988</td>\n",
       "      <td>3.83</td>\n",
       "    </tr>\n",
       "    <tr>\n",
       "      <th>bmi</th>\n",
       "      <td>4490</td>\n",
       "      <td>3.45</td>\n",
       "    </tr>\n",
       "    <tr>\n",
       "      <th>elective_surgery</th>\n",
       "      <td>0</td>\n",
       "      <td>0.00</td>\n",
       "    </tr>\n",
       "    <tr>\n",
       "      <th>...</th>\n",
       "      <td>...</td>\n",
       "      <td>...</td>\n",
       "    </tr>\n",
       "    <tr>\n",
       "      <th>immunosuppression</th>\n",
       "      <td>0</td>\n",
       "      <td>0.00</td>\n",
       "    </tr>\n",
       "    <tr>\n",
       "      <th>leukemia</th>\n",
       "      <td>0</td>\n",
       "      <td>0.00</td>\n",
       "    </tr>\n",
       "    <tr>\n",
       "      <th>lymphoma</th>\n",
       "      <td>0</td>\n",
       "      <td>0.00</td>\n",
       "    </tr>\n",
       "    <tr>\n",
       "      <th>solid_tumor_with_metastasis</th>\n",
       "      <td>0</td>\n",
       "      <td>0.00</td>\n",
       "    </tr>\n",
       "    <tr>\n",
       "      <th>diabetes_mellitus</th>\n",
       "      <td>0</td>\n",
       "      <td>0.00</td>\n",
       "    </tr>\n",
       "  </tbody>\n",
       "</table>\n",
       "<p>180 rows × 2 columns</p>\n",
       "</div>"
      ],
      "text/plain": [
       "                             nulls  percent\n",
       "encounter_id                     0     0.00\n",
       "hospital_id                      0     0.00\n",
       "age                           4988     3.83\n",
       "bmi                           4490     3.45\n",
       "elective_surgery                 0     0.00\n",
       "...                            ...      ...\n",
       "immunosuppression                0     0.00\n",
       "leukemia                         0     0.00\n",
       "lymphoma                         0     0.00\n",
       "solid_tumor_with_metastasis      0     0.00\n",
       "diabetes_mellitus                0     0.00\n",
       "\n",
       "[180 rows x 2 columns]"
      ]
     },
     "execution_count": 7,
     "metadata": {},
     "output_type": "execute_result"
    }
   ],
   "source": [
    "null_counts"
   ]
  },
  {
   "cell_type": "code",
   "execution_count": 8,
   "metadata": {},
   "outputs": [],
   "source": [
    "# checking how many column have a null percentage greater than 50\n",
    "# null_counts[null_counts.percent > 25]"
   ]
  },
  {
   "cell_type": "code",
   "execution_count": 9,
   "metadata": {},
   "outputs": [],
   "source": [
    "# to check specific columns during data dictionary\n",
    "# null_counts[160:182]"
   ]
  },
  {
   "cell_type": "code",
   "execution_count": 10,
   "metadata": {
    "scrolled": true
   },
   "outputs": [],
   "source": [
    "# to see value counts of all numerical columns\n",
    "# for x in df.columns:\n",
    "    \n",
    "#    if df[x].dtype == 'int' or df[x].dtype == 'float':\n",
    "#        print(x)\n",
    "#        print( round(df[x].value_counts()) , '-', round(df[x].max(),0) )\n",
    "#        print('------------------------\\n')"
   ]
  },
  {
   "cell_type": "code",
   "execution_count": 11,
   "metadata": {},
   "outputs": [],
   "source": [
    "# to see range of data in numerical columns\n",
    "# for x in df.columns:\n",
    "    \n",
    "#    if df[x].dtype == 'int' or df[x].dtype == 'float':\n",
    "#        print(x)\n",
    "#        print( round(df[x].min(),0) , '-', round(df[x].max(),0) )\n",
    "#        print('------------------------\\n')"
   ]
  },
  {
   "cell_type": "markdown",
   "metadata": {},
   "source": [
    "### Data Quality\n",
    "- 20 columns have no null values\n",
    "- 79 columns have greater than 20% nulls\n",
    "- 73 columns have more than half nulls"
   ]
  },
  {
   "cell_type": "markdown",
   "metadata": {},
   "source": [
    "## Visualizing Distribution of the Target Variable\n",
    "- diabetes_mellitus, if the patient has been diagnosed with diabetes\n",
    "- binary value\n",
    "- 1 if diagnosed with diabetes, 0 if not"
   ]
  },
  {
   "cell_type": "code",
   "execution_count": 12,
   "metadata": {},
   "outputs": [
    {
     "data": {
      "text/plain": [
       "Text(0.5, 1.0, 'Distribution of Diabetic Patients')"
      ]
     },
     "execution_count": 12,
     "metadata": {},
     "output_type": "execute_result"
    },
    {
     "data": {
      "image/png": "[encoded data removed]",
      "text/plain": [
       "<Figure size 432x288 with 1 Axes>"
      ]
     },
     "metadata": {},
     "output_type": "display_data"
    }
   ],
   "source": [
    "sns.set()\n",
    "\n",
    "sns.histplot(df.diabetes_mellitus)\n",
    "plt.title('Distribution of Diabetic Patients')"
   ]
  },
  {
   "cell_type": "code",
   "execution_count": 13,
   "metadata": {},
   "outputs": [
    {
     "data": {
      "text/plain": [
       "0    102006\n",
       "1     28151\n",
       "Name: diabetes_mellitus, dtype: int64"
      ]
     },
     "execution_count": 13,
     "metadata": {},
     "output_type": "execute_result"
    }
   ],
   "source": [
    "df.diabetes_mellitus.value_counts()"
   ]
  },
  {
   "cell_type": "markdown",
   "metadata": {},
   "source": [
    "#### Most patients in the dataset are not diabetic\n",
    "Note: the dataset will need to be balanced"
   ]
  },
  {
   "cell_type": "markdown",
   "metadata": {},
   "source": [
    "# 2. Prepping the Data for Exploration and Modeling\n",
    "In order of features in dataset\n",
    "\n",
    "## When prepping\n",
    "- some columns are being stored as floats when the values all end in .0, i.e. 103.0\n",
    "- some features can be converted to a binary 0-1 value instead of text\n",
    "- some have too high amount of nulls and need to be removed\n",
    "\n",
    "## Using threshold with dropna\n",
    "- removing columns with a very high percentage of nulls, more than 75%\n",
    "- after preppring each feature, I will run the function again both on rows and columns with more than 60% nulls"
   ]
  },
  {
   "cell_type": "code",
   "execution_count": 14,
   "metadata": {},
   "outputs": [],
   "source": [
    "# Removing Nulls from Columns\n",
    "# sets thresh hold to 75 percent nulls, if more than %25 nulls it will be removed\n",
    "threshold = df.shape[0] * .70\n",
    "\n",
    "# remove columns with specified threshold\n",
    "df = df.dropna(axis=1, thresh=threshold)"
   ]
  },
  {
   "cell_type": "code",
   "execution_count": 15,
   "metadata": {},
   "outputs": [
    {
     "name": "stdout",
     "output_type": "stream",
     "text": [
      "   The df now has 106 columns.\n"
     ]
    }
   ],
   "source": [
    "print('   The df now has', df.shape[1], 'columns.')"
   ]
  },
  {
   "cell_type": "code",
   "execution_count": 16,
   "metadata": {},
   "outputs": [],
   "source": [
    "# Removing Nulls from Rows\n",
    "# sets thresh hold to 50 percent nulls, if more than %50 nulls it will be removed\n",
    "thresh_hold = df.shape[1] * .75\n",
    "\n",
    "# remove rows with specified threshold\n",
    "df = df.dropna(axis=0,thresh=thresh_hold)"
   ]
  },
  {
   "cell_type": "code",
   "execution_count": 17,
   "metadata": {},
   "outputs": [
    {
     "name": "stdout",
     "output_type": "stream",
     "text": [
      "   The df now has 122730 rows.\n"
     ]
    }
   ],
   "source": [
    "print('   The df now has', df.shape[0], 'rows.')"
   ]
  },
  {
   "cell_type": "markdown",
   "metadata": {},
   "source": [
    "## Age\n",
    "- a float with trailing .0 only, convert to integer\n",
    "- less than 5k nulls, will fill null with average age\n",
    "- can create binned feature based on age"
   ]
  },
  {
   "cell_type": "code",
   "execution_count": 18,
   "metadata": {},
   "outputs": [
    {
     "data": {
      "text/plain": [
       "67.0    3061\n",
       "71.0    2909\n",
       "68.0    2895\n",
       "72.0    2852\n",
       "66.0    2810\n",
       "        ... \n",
       "20.0     445\n",
       "18.0     337\n",
       "17.0     157\n",
       "16.0      78\n",
       "0.0        3\n",
       "Name: age, Length: 75, dtype: int64"
      ]
     },
     "execution_count": 18,
     "metadata": {},
     "output_type": "execute_result"
    }
   ],
   "source": [
    "df.age.value_counts()"
   ]
  },
  {
   "cell_type": "code",
   "execution_count": 19,
   "metadata": {},
   "outputs": [
    {
     "data": {
      "text/plain": [
       "4602"
      ]
     },
     "execution_count": 19,
     "metadata": {},
     "output_type": "execute_result"
    }
   ],
   "source": [
    "df.age.isnull().sum()"
   ]
  },
  {
   "cell_type": "markdown",
   "metadata": {},
   "source": [
    "Note: 4,988 patients have a null value for age. Because there is a total of > 130,000 patients, will impute the null values with the average age "
   ]
  },
  {
   "cell_type": "code",
   "execution_count": 20,
   "metadata": {},
   "outputs": [
    {
     "name": "stdout",
     "output_type": "stream",
     "text": [
      "Average Patient Age: 62.0\n",
      " Median Patient Age: 64.0\n",
      "   Mode Patient Age: 0    67.0\n",
      "dtype: float64\n"
     ]
    },
    {
     "data": {
      "image/png": "[encoded data removed]",
      "text/plain": [
       "<Figure size 720x360 with 1 Axes>"
      ]
     },
     "metadata": {},
     "output_type": "display_data"
    }
   ],
   "source": [
    "sns.set()\n",
    "plt.figure(figsize=(10,5))\n",
    "\n",
    "sns.histplot(df.age)\n",
    "plt.title('Distribution of Patients Age')\n",
    "\n",
    "print('Average Patient Age:', round(df.age.mean(),0))\n",
    "print(' Median Patient Age:', round(df.age.median(),0))\n",
    "print('   Mode Patient Age:', round(df.age.mode(),0))"
   ]
  },
  {
   "cell_type": "code",
   "execution_count": 21,
   "metadata": {},
   "outputs": [],
   "source": [
    "# setting avariable as rounded average age\n",
    "avg_age = round(df.age.mean(),0)\n",
    "\n",
    "# filling null values with the average age\n",
    "df.age = df.age.fillna(avg_age)"
   ]
  },
  {
   "cell_type": "code",
   "execution_count": 22,
   "metadata": {},
   "outputs": [],
   "source": [
    "# age is in years, and all values end in 0 - will be converted to integers\n",
    "df.age = df.age.astype({'age':'int'})"
   ]
  },
  {
   "cell_type": "code",
   "execution_count": 23,
   "metadata": {},
   "outputs": [
    {
     "data": {
      "text/plain": [
       "Text(0.5, 1.0, 'Distribution of Patients Age')"
      ]
     },
     "execution_count": 23,
     "metadata": {},
     "output_type": "execute_result"
    },
    {
     "data": {
      "image/png": "[encoded data removed]",
      "text/plain": [
       "<Figure size 720x360 with 1 Axes>"
      ]
     },
     "metadata": {},
     "output_type": "display_data"
    }
   ],
   "source": [
    "sns.set()\n",
    "plt.figure(figsize=(10,5))\n",
    "\n",
    "sns.histplot(df.age)\n",
    "plt.title('Distribution of Patients Age')"
   ]
  },
  {
   "cell_type": "markdown",
   "metadata": {},
   "source": [
    "## Note: There is now a huge spike in age where the nulls were filled by the average.\n",
    "- will decide a different way to handle these nulls\n",
    "- while less than 5k compared to the total rows of >100k did not seem significant at first, visualizing the effect showed otherwise"
   ]
  },
  {
   "cell_type": "markdown",
   "metadata": {},
   "source": [
    "## Body Mass Index\n",
    "- less than 4k nulls\n",
    "- will probably have the same effect as with age"
   ]
  },
  {
   "cell_type": "code",
   "execution_count": 24,
   "metadata": {},
   "outputs": [
    {
     "data": {
      "text/plain": [
       "3805"
      ]
     },
     "execution_count": 24,
     "metadata": {},
     "output_type": "execute_result"
    }
   ],
   "source": [
    "df.bmi.isnull().sum()"
   ]
  },
  {
   "cell_type": "code",
   "execution_count": 25,
   "metadata": {},
   "outputs": [
    {
     "name": "stdout",
     "output_type": "stream",
     "text": [
      "Average Patient BMI: 29.0\n",
      " Median Patient BMI: 28.0\n",
      "\n",
      "    Min Patient BMI: 15.0\n",
      "    Max Patient BMI: 68.0\n"
     ]
    },
    {
     "data": {
      "image/png": "[encoded data removed]",
      "text/plain": [
       "<Figure size 720x360 with 1 Axes>"
      ]
     },
     "metadata": {},
     "output_type": "display_data"
    }
   ],
   "source": [
    "sns.set()\n",
    "plt.figure(figsize=(10,5))\n",
    "\n",
    "sns.histplot(df.bmi)\n",
    "plt.title('Distribution of Patients Age')\n",
    "\n",
    "print('Average Patient BMI:', round(df.bmi.mean(),0))\n",
    "print(' Median Patient BMI:', round(df.bmi.median(),0))\n",
    "print('\\n    Min Patient BMI:', round(df.bmi.min(),0))\n",
    "print('    Max Patient BMI:', round(df.bmi.max(),0))"
   ]
  },
  {
   "cell_type": "markdown",
   "metadata": {},
   "source": [
    "Note: Peak of BMI's at the minimum and maximum values"
   ]
  },
  {
   "cell_type": "markdown",
   "metadata": {},
   "source": [
    "## Gender - String to Boolean"
   ]
  },
  {
   "cell_type": "code",
   "execution_count": 26,
   "metadata": {},
   "outputs": [
    {
     "data": {
      "text/plain": [
       "28"
      ]
     },
     "execution_count": 26,
     "metadata": {},
     "output_type": "execute_result"
    }
   ],
   "source": [
    "# 66 patients have null values for gender\n",
    "# with such an insiginficant amount, will leave them for now\n",
    "df.gender.isnull().sum()"
   ]
  },
  {
   "cell_type": "code",
   "execution_count": 27,
   "metadata": {},
   "outputs": [],
   "source": [
    "df['is_female'] = df.gender.replace({'M':0, 'F':1})"
   ]
  },
  {
   "cell_type": "code",
   "execution_count": 28,
   "metadata": {},
   "outputs": [
    {
     "data": {
      "text/plain": [
       "encounter_id                      0\n",
       "hospital_id                       0\n",
       "age                               0\n",
       "bmi                            3805\n",
       "elective_surgery                  0\n",
       "                               ... \n",
       "leukemia                          0\n",
       "lymphoma                          0\n",
       "solid_tumor_with_metastasis       0\n",
       "diabetes_mellitus                 0\n",
       "is_female                        28\n",
       "Length: 107, dtype: int64"
      ]
     },
     "execution_count": 28,
     "metadata": {},
     "output_type": "execute_result"
    }
   ],
   "source": [
    "df.isnull().sum()"
   ]
  },
  {
   "cell_type": "markdown",
   "metadata": {},
   "source": [
    "### Apache 2 Diagnosis - Removing .0 from Integers"
   ]
  },
  {
   "cell_type": "code",
   "execution_count": 29,
   "metadata": {},
   "outputs": [
    {
     "data": {
      "text/plain": [
       "113.0    15956\n",
       "301.0     8881\n",
       "302.0     8078\n",
       "308.0     5708\n",
       "112.0     5698\n",
       "124.0     5445\n",
       "117.0     4781\n",
       "303.0     4749\n",
       "122.0     4629\n",
       "304.0     4449\n",
       "110.0     4193\n",
       "203.0     3810\n",
       "106.0     3345\n",
       "121.0     3169\n",
       "114.0     3167\n",
       "202.0     3096\n",
       "305.0     3014\n",
       "123.0     2885\n",
       "307.0     2537\n",
       "119.0     2514\n",
       "102.0     2497\n",
       "118.0     2212\n",
       "120.0     1862\n",
       "214.0     1631\n",
       "108.0     1604\n",
       "109.0     1308\n",
       "105.0     1301\n",
       "218.0     1035\n",
       "213.0     1032\n",
       "207.0      945\n",
       "306.0      807\n",
       "217.0      753\n",
       "219.0      646\n",
       "209.0      615\n",
       "101.0      561\n",
       "104.0      551\n",
       "103.0      463\n",
       "115.0      380\n",
       "107.0      274\n",
       "116.0      254\n",
       "215.0      213\n",
       "208.0      205\n",
       "212.0      136\n",
       "216.0       66\n",
       "Name: apache_2_diagnosis, dtype: int64"
      ]
     },
     "execution_count": 29,
     "metadata": {},
     "output_type": "execute_result"
    }
   ],
   "source": [
    "df.apache_2_diagnosis.value_counts()"
   ]
  },
  {
   "cell_type": "code",
   "execution_count": 30,
   "metadata": {},
   "outputs": [
    {
     "data": {
      "text/plain": [
       "1275"
      ]
     },
     "execution_count": 30,
     "metadata": {},
     "output_type": "execute_result"
    }
   ],
   "source": [
    "# rows that have a null value for spache 2 diagnosis\n",
    "df.apache_2_diagnosis.isnull().sum()"
   ]
  },
  {
   "cell_type": "code",
   "execution_count": 31,
   "metadata": {},
   "outputs": [],
   "source": [
    "# can not convert data types with null values in the column, will fill nulls with the average value\n",
    "# setting variable as the average value\n",
    "apache_2_diagnosis_mean = df.apache_2_diagnosis.mean()\n",
    "\n",
    "# filling the 1,685 null values with the average\n",
    "df.apache_2_diagnosis = df.apache_2_diagnosis.fillna(apache_2_diagnosis_mean)\n",
    "\n",
    "# now, can convert the data types to integers without trailing decimals\n",
    "df.apache_2_diagnosis = df.apache_2_diagnosis.astype('int')"
   ]
  },
  {
   "cell_type": "code",
   "execution_count": 32,
   "metadata": {},
   "outputs": [
    {
     "data": {
      "text/plain": [
       "1         113\n",
       "2         108\n",
       "4         203\n",
       "6         301\n",
       "7         108\n",
       "         ... \n",
       "130152    305\n",
       "130154    105\n",
       "130155    114\n",
       "130156    124\n",
       "130157    105\n",
       "Name: apache_2_diagnosis, Length: 122730, dtype: int64"
      ]
     },
     "execution_count": 32,
     "metadata": {},
     "output_type": "execute_result"
    }
   ],
   "source": [
    "# can see no more decimal values\n",
    "df.apache_2_diagnosis"
   ]
  },
  {
   "cell_type": "markdown",
   "metadata": {},
   "source": [
    "## Creating Dummy Variables\n",
    "### ICU Stay Type\n",
    "- this feature has three different categories\n",
    "    - admit - replace with 1\n",
    "    - transfer - replace with 2\n",
    "    - readmit - replace with 3"
   ]
  },
  {
   "cell_type": "code",
   "execution_count": 33,
   "metadata": {},
   "outputs": [
    {
     "data": {
      "text/plain": [
       "admit       117546\n",
       "transfer      4625\n",
       "readmit        559\n",
       "Name: icu_stay_type, dtype: int64"
      ]
     },
     "execution_count": 33,
     "metadata": {},
     "output_type": "execute_result"
    }
   ],
   "source": [
    "# the three categories in icu stay type\n",
    "df.icu_stay_type.value_counts()"
   ]
  },
  {
   "cell_type": "code",
   "execution_count": 34,
   "metadata": {},
   "outputs": [],
   "source": [
    "df.icu_stay_type = df.icu_stay_type.replace({'admit':1, 'transfer':2, 'readmit':3})"
   ]
  },
  {
   "cell_type": "code",
   "execution_count": 35,
   "metadata": {},
   "outputs": [
    {
     "data": {
      "text/plain": [
       "1    117546\n",
       "2      4625\n",
       "3       559\n",
       "Name: icu_stay_type, dtype: int64"
      ]
     },
     "execution_count": 35,
     "metadata": {},
     "output_type": "execute_result"
    }
   ],
   "source": [
    "# the three categories after replacing with 1,2,3\n",
    "df.icu_stay_type.value_counts()"
   ]
  },
  {
   "cell_type": "markdown",
   "metadata": {},
   "source": [
    "### ICU Type\n",
    "Categories in this feature are:\n",
    "- Med-Surg ICU, 1\n",
    "- CCU-CTICU, 2\n",
    "- MICU, 3\n",
    "- Neuro ICU, 4\n",
    "- Cardiac ICU, 5\n",
    "- SICU, 6\n",
    "- CSICU, 7\n",
    "- CTICU, 8  \n",
    "which will be replaced with the corresponding integer"
   ]
  },
  {
   "cell_type": "code",
   "execution_count": 36,
   "metadata": {},
   "outputs": [
    {
     "data": {
      "text/plain": [
       "Med-Surg ICU    67043\n",
       "CCU-CTICU       10696\n",
       "MICU            10483\n",
       "Neuro ICU        9680\n",
       "SICU             7977\n",
       "Cardiac ICU      7750\n",
       "CSICU            4848\n",
       "CTICU            4253\n",
       "Name: icu_type, dtype: int64"
      ]
     },
     "execution_count": 36,
     "metadata": {},
     "output_type": "execute_result"
    }
   ],
   "source": [
    "df.icu_type.value_counts()"
   ]
  },
  {
   "cell_type": "code",
   "execution_count": 37,
   "metadata": {},
   "outputs": [
    {
     "data": {
      "text/plain": [
       "\" \\ndf.icu_type = df.icu_type.replace({'Med-Surg ICU':1, 'CCU-CTICU':2, 'MICU':3,\\n                                    'Neuro ICU':4, 'Cardiac ICU':5, 'SICU':6, \\n                                    'CSICU':7, 'CTICU':8})\\n\""
      ]
     },
     "execution_count": 37,
     "metadata": {},
     "output_type": "execute_result"
    }
   ],
   "source": [
    "df.icu_type.replace({'Med-Surg ICU':1, 'CCU-CTICU':2, 'MICU':3, \n",
    "                     'Neuro ICU':4, 'Cardiac ICU':5, 'SICU':6, \n",
    "                     'CSICU':7, 'CTICU':8}).value_counts()\n",
    "\n",
    "# sanity checked code with value counts, this line will go in the wrangle.py\n",
    "''' \n",
    "df.icu_type = df.icu_type.replace({'Med-Surg ICU':1, 'CCU-CTICU':2, 'MICU':3,\n",
    "                                    'Neuro ICU':4, 'Cardiac ICU':5, 'SICU':6, \n",
    "                                    'CSICU':7, 'CTICU':8})\n",
    "'''"
   ]
  },
  {
   "cell_type": "code",
   "execution_count": 38,
   "metadata": {},
   "outputs": [
    {
     "data": {
      "text/plain": [
       "68.00     1330\n",
       "81.60     1171\n",
       "63.50     1090\n",
       "90.70     1060\n",
       "77.10      983\n",
       "          ... \n",
       "83.63        1\n",
       "57.23        1\n",
       "138.21       1\n",
       "81.49        1\n",
       "60.19        1\n",
       "Name: weight, Length: 3550, dtype: int64"
      ]
     },
     "execution_count": 38,
     "metadata": {},
     "output_type": "execute_result"
    }
   ],
   "source": [
    "df.weight.value_counts()"
   ]
  },
  {
   "cell_type": "markdown",
   "metadata": {},
   "source": [
    "### Hospital Admit Source\n",
    "- this feature has 26 percent nulls\n",
    "- will create dummy variables from the top three categories in this feature\n",
    "- is_ER_admit, is_OR_admit, and is_Floor_admit\n",
    "- than remove the original column since higher than 25 percent nulls"
   ]
  },
  {
   "cell_type": "code",
   "execution_count": 39,
   "metadata": {},
   "outputs": [
    {
     "data": {
      "text/plain": [
       "Emergency Department    47832\n",
       "Operating Room          13199\n",
       "Floor                   10733\n",
       "Direct Admit             7864\n",
       "Recovery Room            4226\n",
       "Other Hospital           2333\n",
       "Acute Care/Floor         1979\n",
       "Step-Down Unit (SDU)     1529\n",
       "PACU                      980\n",
       "Other ICU                 258\n",
       "Chest Pain Center         237\n",
       "ICU to SDU                 61\n",
       "ICU                        36\n",
       "Observation                10\n",
       "Other                       7\n",
       "Name: hospital_admit_source, dtype: int64"
      ]
     },
     "execution_count": 39,
     "metadata": {},
     "output_type": "execute_result"
    }
   ],
   "source": [
    "df.hospital_admit_source.value_counts()"
   ]
  },
  {
   "cell_type": "code",
   "execution_count": 40,
   "metadata": {},
   "outputs": [],
   "source": [
    "df['is_ER_admit'] = df.hospital_admit_source == 'Emergency Department'"
   ]
  },
  {
   "cell_type": "code",
   "execution_count": 41,
   "metadata": {},
   "outputs": [
    {
     "data": {
      "text/plain": [
       "False    74898\n",
       "True     47832\n",
       "Name: is_ER_admit, dtype: int64"
      ]
     },
     "execution_count": 41,
     "metadata": {},
     "output_type": "execute_result"
    }
   ],
   "source": [
    "df['is_ER_admit'].value_counts()"
   ]
  },
  {
   "cell_type": "code",
   "execution_count": 42,
   "metadata": {},
   "outputs": [],
   "source": [
    "df['is_OR_admit'] = df.hospital_admit_source == 'Operating Room'"
   ]
  },
  {
   "cell_type": "code",
   "execution_count": 43,
   "metadata": {},
   "outputs": [
    {
     "data": {
      "text/plain": [
       "False    109531\n",
       "True      13199\n",
       "Name: is_OR_admit, dtype: int64"
      ]
     },
     "execution_count": 43,
     "metadata": {},
     "output_type": "execute_result"
    }
   ],
   "source": [
    "df['is_OR_admit'].value_counts()"
   ]
  },
  {
   "cell_type": "code",
   "execution_count": 44,
   "metadata": {},
   "outputs": [],
   "source": [
    "df['is_Floor_admit'] = df.hospital_admit_source == 'Floor'"
   ]
  },
  {
   "cell_type": "code",
   "execution_count": 45,
   "metadata": {},
   "outputs": [
    {
     "data": {
      "text/plain": [
       "False    111997\n",
       "True      10733\n",
       "Name: is_Floor_admit, dtype: int64"
      ]
     },
     "execution_count": 45,
     "metadata": {},
     "output_type": "execute_result"
    }
   ],
   "source": [
    "df['is_Floor_admit'].value_counts()"
   ]
  },
  {
   "cell_type": "markdown",
   "metadata": {},
   "source": [
    "Original column will be dropped with threshold function later"
   ]
  },
  {
   "cell_type": "markdown",
   "metadata": {},
   "source": [
    "## Removing Unecessary Columns\n",
    "### Readmission Status \n",
    "- this column is all 0 with no nulls\n",
    "- no patient has been identified has a readmission"
   ]
  },
  {
   "cell_type": "code",
   "execution_count": 46,
   "metadata": {},
   "outputs": [
    {
     "data": {
      "text/plain": [
       "0    122730\n",
       "Name: readmission_status, dtype: int64"
      ]
     },
     "execution_count": 46,
     "metadata": {},
     "output_type": "execute_result"
    }
   ],
   "source": [
    "df.readmission_status.value_counts()"
   ]
  },
  {
   "cell_type": "code",
   "execution_count": 47,
   "metadata": {},
   "outputs": [
    {
     "data": {
      "text/plain": [
       "0"
      ]
     },
     "execution_count": 47,
     "metadata": {},
     "output_type": "execute_result"
    }
   ],
   "source": [
    "df.readmission_status.isnull().sum()"
   ]
  },
  {
   "cell_type": "code",
   "execution_count": 48,
   "metadata": {},
   "outputs": [],
   "source": [
    "df = df.drop('readmission_status', axis=1)"
   ]
  },
  {
   "cell_type": "markdown",
   "metadata": {},
   "source": [
    "## What should be removed?\n",
    "- I will set a threshold of nulls percentage, and remove any columns or rows more than this threshold\n",
    "- starting at 50% nulls, will determine later if a lower or higher threshold is needed"
   ]
  },
  {
   "cell_type": "code",
   "execution_count": 49,
   "metadata": {},
   "outputs": [],
   "source": [
    "# Removing Nulls from Columns\n",
    "# sets thresh hold to 75 percent nulls, if more than %25 nulls it will be removed\n",
    "threshold = df.shape[0] * .75\n",
    "\n",
    "# remove columns with specified threshold\n",
    "df_prepped = df.dropna(axis=1, thresh=threshold)"
   ]
  },
  {
   "cell_type": "code",
   "execution_count": 50,
   "metadata": {},
   "outputs": [
    {
     "name": "stdout",
     "output_type": "stream",
     "text": [
      "   The df now has 108 rows.\n"
     ]
    }
   ],
   "source": [
    "print('   The df now has', df_prepped.shape[1], 'rows.')"
   ]
  },
  {
   "cell_type": "code",
   "execution_count": 51,
   "metadata": {},
   "outputs": [],
   "source": [
    "# Removing Nulls from Rows\n",
    "# sets thresh hold to 50 percent nulls, if more than %50 nulls it will be removed\n",
    "thresh_hold = df.shape[1] * .50\n",
    "\n",
    "# remove rows with specified threshold\n",
    "df_prepped = df_prepped.dropna(axis=0,thresh=thresh_hold)"
   ]
  },
  {
   "cell_type": "code",
   "execution_count": 52,
   "metadata": {},
   "outputs": [
    {
     "name": "stdout",
     "output_type": "stream",
     "text": [
      "   The df now has 108 rows with 122730 observations. \n",
      "It originally had 180 columns and 130157 observations before removing nulls above 25% in the columns and above 50% rows.\n"
     ]
    }
   ],
   "source": [
    "print('   The df now has', df_prepped.shape[1], 'rows with', df_prepped.shape[0], 'observations. \\nIt originally had 180 columns and 130157 observations before removing nulls above 25% in the columns and above 50% rows.')"
   ]
  }
 ],
 "metadata": {
  "kernelspec": {
   "display_name": "Python 3",
   "language": "python",
   "name": "python3"
  },
  "language_info": {
   "codemirror_mode": {
    "name": "ipython",
    "version": 3
   },
   "file_extension": ".py",
   "mimetype": "text/x-python",
   "name": "python",
   "nbconvert_exporter": "python",
   "pygments_lexer": "ipython3",
   "version": "3.7.6"
  }
 },
 "nbformat": 4,
 "nbformat_minor": 4
}
