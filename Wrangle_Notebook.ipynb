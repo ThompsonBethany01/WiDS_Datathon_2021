{
 "cells": [
  {
   "cell_type": "markdown",
   "metadata": {},
   "source": [
    "# WiDS Datathon 2021, Wrangling the Data\n",
    "## 1. Initial Look at the DF\n",
    "Summarizing the raw df:\n",
    "- what is the shape of the data?\n",
    "- what is the target variable? and its distribution?\n",
    "- how many nulls?\n",
    "- identify outliers/anomalies\n",
    "- and more...\n",
    "\n",
    "## 2. Prepping the Data for Exploration and Modeling\n",
    "Taking care of questions addressed above:\n",
    "- impute or remove nulls\n",
    "- handle outliers\n",
    "- split into train/validate/test\n",
    "\n",
    "## 3. Add Code into Functions in a .py File"
   ]
  },
  {
   "cell_type": "code",
   "execution_count": 1,
   "metadata": {},
   "outputs": [],
   "source": [
    "import pandas as pd\n",
    "import seaborn as sns\n",
    "import matplotlib.pyplot as plt"
   ]
  },
  {
   "cell_type": "code",
   "execution_count": 2,
   "metadata": {},
   "outputs": [],
   "source": [
    "# reading csv file into a pandas dataframe\n",
    "df = pd.read_csv('data/TrainingWiDS2021.csv', index_col=0)"
   ]
  },
  {
   "cell_type": "markdown",
   "metadata": {},
   "source": [
    "# 1. Initial Look at the Raw DF"
   ]
  },
  {
   "cell_type": "code",
   "execution_count": 3,
   "metadata": {},
   "outputs": [
    {
     "name": "stdout",
     "output_type": "stream",
     "text": [
      "There are 180 columns and 130157 observations in the df.\n"
     ]
    }
   ],
   "source": [
    "# checking the shape of the data\n",
    "print('There are', df.shape[1], 'columns and', df.shape[0], 'observations in the df.')"
   ]
  },
  {
   "cell_type": "code",
   "execution_count": 4,
   "metadata": {
    "scrolled": false
   },
   "outputs": [
    {
     "name": "stdout",
     "output_type": "stream",
     "text": [
      "Columns in the df are:\n"
     ]
    },
    {
     "data": {
      "text/plain": [
       "['encounter_id',\n",
       " 'hospital_id',\n",
       " 'age',\n",
       " 'bmi',\n",
       " 'elective_surgery',\n",
       " 'ethnicity',\n",
       " 'gender',\n",
       " 'height',\n",
       " 'hospital_admit_source',\n",
       " 'icu_admit_source',\n",
       " 'icu_id',\n",
       " 'icu_stay_type',\n",
       " 'icu_type',\n",
       " 'pre_icu_los_days',\n",
       " 'readmission_status',\n",
       " 'weight',\n",
       " 'albumin_apache',\n",
       " 'apache_2_diagnosis',\n",
       " 'apache_3j_diagnosis',\n",
       " 'apache_post_operative',\n",
       " 'arf_apache',\n",
       " 'bilirubin_apache',\n",
       " 'bun_apache',\n",
       " 'creatinine_apache',\n",
       " 'fio2_apache',\n",
       " 'gcs_eyes_apache',\n",
       " 'gcs_motor_apache',\n",
       " 'gcs_unable_apache',\n",
       " 'gcs_verbal_apache',\n",
       " 'glucose_apache',\n",
       " 'heart_rate_apache',\n",
       " 'hematocrit_apache',\n",
       " 'intubated_apache',\n",
       " 'map_apache',\n",
       " 'paco2_apache',\n",
       " 'paco2_for_ph_apache',\n",
       " 'pao2_apache',\n",
       " 'ph_apache',\n",
       " 'resprate_apache',\n",
       " 'sodium_apache',\n",
       " 'temp_apache',\n",
       " 'urineoutput_apache',\n",
       " 'ventilated_apache',\n",
       " 'wbc_apache',\n",
       " 'd1_diasbp_invasive_max',\n",
       " 'd1_diasbp_invasive_min',\n",
       " 'd1_diasbp_max',\n",
       " 'd1_diasbp_min',\n",
       " 'd1_diasbp_noninvasive_max',\n",
       " 'd1_diasbp_noninvasive_min',\n",
       " 'd1_heartrate_max',\n",
       " 'd1_heartrate_min',\n",
       " 'd1_mbp_invasive_max',\n",
       " 'd1_mbp_invasive_min',\n",
       " 'd1_mbp_max',\n",
       " 'd1_mbp_min',\n",
       " 'd1_mbp_noninvasive_max',\n",
       " 'd1_mbp_noninvasive_min',\n",
       " 'd1_resprate_max',\n",
       " 'd1_resprate_min',\n",
       " 'd1_spo2_max',\n",
       " 'd1_spo2_min',\n",
       " 'd1_sysbp_invasive_max',\n",
       " 'd1_sysbp_invasive_min',\n",
       " 'd1_sysbp_max',\n",
       " 'd1_sysbp_min',\n",
       " 'd1_sysbp_noninvasive_max',\n",
       " 'd1_sysbp_noninvasive_min',\n",
       " 'd1_temp_max',\n",
       " 'd1_temp_min',\n",
       " 'h1_diasbp_invasive_max',\n",
       " 'h1_diasbp_invasive_min',\n",
       " 'h1_diasbp_max',\n",
       " 'h1_diasbp_min',\n",
       " 'h1_diasbp_noninvasive_max',\n",
       " 'h1_diasbp_noninvasive_min',\n",
       " 'h1_heartrate_max',\n",
       " 'h1_heartrate_min',\n",
       " 'h1_mbp_invasive_max',\n",
       " 'h1_mbp_invasive_min',\n",
       " 'h1_mbp_max',\n",
       " 'h1_mbp_min',\n",
       " 'h1_mbp_noninvasive_max',\n",
       " 'h1_mbp_noninvasive_min',\n",
       " 'h1_resprate_max',\n",
       " 'h1_resprate_min',\n",
       " 'h1_spo2_max',\n",
       " 'h1_spo2_min',\n",
       " 'h1_sysbp_invasive_max',\n",
       " 'h1_sysbp_invasive_min',\n",
       " 'h1_sysbp_max',\n",
       " 'h1_sysbp_min',\n",
       " 'h1_sysbp_noninvasive_max',\n",
       " 'h1_sysbp_noninvasive_min',\n",
       " 'h1_temp_max',\n",
       " 'h1_temp_min',\n",
       " 'd1_albumin_max',\n",
       " 'd1_albumin_min',\n",
       " 'd1_bilirubin_max',\n",
       " 'd1_bilirubin_min',\n",
       " 'd1_bun_max',\n",
       " 'd1_bun_min',\n",
       " 'd1_calcium_max',\n",
       " 'd1_calcium_min',\n",
       " 'd1_creatinine_max',\n",
       " 'd1_creatinine_min',\n",
       " 'd1_glucose_max',\n",
       " 'd1_glucose_min',\n",
       " 'd1_hco3_max',\n",
       " 'd1_hco3_min',\n",
       " 'd1_hemaglobin_max',\n",
       " 'd1_hemaglobin_min',\n",
       " 'd1_hematocrit_max',\n",
       " 'd1_hematocrit_min',\n",
       " 'd1_inr_max',\n",
       " 'd1_inr_min',\n",
       " 'd1_lactate_max',\n",
       " 'd1_lactate_min',\n",
       " 'd1_platelets_max',\n",
       " 'd1_platelets_min',\n",
       " 'd1_potassium_max',\n",
       " 'd1_potassium_min',\n",
       " 'd1_sodium_max',\n",
       " 'd1_sodium_min',\n",
       " 'd1_wbc_max',\n",
       " 'd1_wbc_min',\n",
       " 'h1_albumin_max',\n",
       " 'h1_albumin_min',\n",
       " 'h1_bilirubin_max',\n",
       " 'h1_bilirubin_min',\n",
       " 'h1_bun_max',\n",
       " 'h1_bun_min',\n",
       " 'h1_calcium_max',\n",
       " 'h1_calcium_min',\n",
       " 'h1_creatinine_max',\n",
       " 'h1_creatinine_min',\n",
       " 'h1_glucose_max',\n",
       " 'h1_glucose_min',\n",
       " 'h1_hco3_max',\n",
       " 'h1_hco3_min',\n",
       " 'h1_hemaglobin_max',\n",
       " 'h1_hemaglobin_min',\n",
       " 'h1_hematocrit_max',\n",
       " 'h1_hematocrit_min',\n",
       " 'h1_inr_max',\n",
       " 'h1_inr_min',\n",
       " 'h1_lactate_max',\n",
       " 'h1_lactate_min',\n",
       " 'h1_platelets_max',\n",
       " 'h1_platelets_min',\n",
       " 'h1_potassium_max',\n",
       " 'h1_potassium_min',\n",
       " 'h1_sodium_max',\n",
       " 'h1_sodium_min',\n",
       " 'h1_wbc_max',\n",
       " 'h1_wbc_min',\n",
       " 'd1_arterial_pco2_max',\n",
       " 'd1_arterial_pco2_min',\n",
       " 'd1_arterial_ph_max',\n",
       " 'd1_arterial_ph_min',\n",
       " 'd1_arterial_po2_max',\n",
       " 'd1_arterial_po2_min',\n",
       " 'd1_pao2fio2ratio_max',\n",
       " 'd1_pao2fio2ratio_min',\n",
       " 'h1_arterial_pco2_max',\n",
       " 'h1_arterial_pco2_min',\n",
       " 'h1_arterial_ph_max',\n",
       " 'h1_arterial_ph_min',\n",
       " 'h1_arterial_po2_max',\n",
       " 'h1_arterial_po2_min',\n",
       " 'h1_pao2fio2ratio_max',\n",
       " 'h1_pao2fio2ratio_min',\n",
       " 'aids',\n",
       " 'cirrhosis',\n",
       " 'hepatic_failure',\n",
       " 'immunosuppression',\n",
       " 'leukemia',\n",
       " 'lymphoma',\n",
       " 'solid_tumor_with_metastasis',\n",
       " 'diabetes_mellitus']"
      ]
     },
     "execution_count": 4,
     "metadata": {},
     "output_type": "execute_result"
    }
   ],
   "source": [
    "print('Columns in the df are:')\n",
    "df.columns.to_list()"
   ]
  },
  {
   "cell_type": "markdown",
   "metadata": {},
   "source": [
    "### There are a large amount of columns in the data. Will these all be useful? Can some be removed due to poor data quality (high nulls)?"
   ]
  },
  {
   "cell_type": "code",
   "execution_count": 5,
   "metadata": {},
   "outputs": [],
   "source": [
    "# creating dataframe of null count for each column\n",
    "null_counts = pd.DataFrame(df.isnull().sum())\n",
    "\n",
    "# renaming count column\n",
    "null_counts.columns = ['nulls']"
   ]
  },
  {
   "cell_type": "code",
   "execution_count": 6,
   "metadata": {},
   "outputs": [],
   "source": [
    "# creating column in null counts for the percentage of the column that is nulls\n",
    "null_counts['percent'] = round((null_counts.nulls / df.shape[0]) * 100,2)"
   ]
  },
  {
   "cell_type": "code",
   "execution_count": 7,
   "metadata": {},
   "outputs": [
    {
     "data": {
      "text/html": [
       "<div>\n",
       "<style scoped>\n",
       "    .dataframe tbody tr th:only-of-type {\n",
       "        vertical-align: middle;\n",
       "    }\n",
       "\n",
       "    .dataframe tbody tr th {\n",
       "        vertical-align: top;\n",
       "    }\n",
       "\n",
       "    .dataframe thead th {\n",
       "        text-align: right;\n",
       "    }\n",
       "</style>\n",
       "<table border=\"1\" class=\"dataframe\">\n",
       "  <thead>\n",
       "    <tr style=\"text-align: right;\">\n",
       "      <th></th>\n",
       "      <th>nulls</th>\n",
       "      <th>percent</th>\n",
       "    </tr>\n",
       "  </thead>\n",
       "  <tbody>\n",
       "    <tr>\n",
       "      <th>albumin_apache</th>\n",
       "      <td>78163</td>\n",
       "      <td>60.05</td>\n",
       "    </tr>\n",
       "    <tr>\n",
       "      <th>bilirubin_apache</th>\n",
       "      <td>82560</td>\n",
       "      <td>63.43</td>\n",
       "    </tr>\n",
       "    <tr>\n",
       "      <th>fio2_apache</th>\n",
       "      <td>99720</td>\n",
       "      <td>76.62</td>\n",
       "    </tr>\n",
       "    <tr>\n",
       "      <th>paco2_apache</th>\n",
       "      <td>99720</td>\n",
       "      <td>76.62</td>\n",
       "    </tr>\n",
       "    <tr>\n",
       "      <th>paco2_for_ph_apache</th>\n",
       "      <td>99720</td>\n",
       "      <td>76.62</td>\n",
       "    </tr>\n",
       "    <tr>\n",
       "      <th>...</th>\n",
       "      <td>...</td>\n",
       "      <td>...</td>\n",
       "    </tr>\n",
       "    <tr>\n",
       "      <th>h1_arterial_ph_min</th>\n",
       "      <td>107849</td>\n",
       "      <td>82.86</td>\n",
       "    </tr>\n",
       "    <tr>\n",
       "      <th>h1_arterial_po2_max</th>\n",
       "      <td>107445</td>\n",
       "      <td>82.55</td>\n",
       "    </tr>\n",
       "    <tr>\n",
       "      <th>h1_arterial_po2_min</th>\n",
       "      <td>107445</td>\n",
       "      <td>82.55</td>\n",
       "    </tr>\n",
       "    <tr>\n",
       "      <th>h1_pao2fio2ratio_max</th>\n",
       "      <td>113397</td>\n",
       "      <td>87.12</td>\n",
       "    </tr>\n",
       "    <tr>\n",
       "      <th>h1_pao2fio2ratio_min</th>\n",
       "      <td>113397</td>\n",
       "      <td>87.12</td>\n",
       "    </tr>\n",
       "  </tbody>\n",
       "</table>\n",
       "<p>73 rows × 2 columns</p>\n",
       "</div>"
      ],
      "text/plain": [
       "                       nulls  percent\n",
       "albumin_apache         78163    60.05\n",
       "bilirubin_apache       82560    63.43\n",
       "fio2_apache            99720    76.62\n",
       "paco2_apache           99720    76.62\n",
       "paco2_for_ph_apache    99720    76.62\n",
       "...                      ...      ...\n",
       "h1_arterial_ph_min    107849    82.86\n",
       "h1_arterial_po2_max   107445    82.55\n",
       "h1_arterial_po2_min   107445    82.55\n",
       "h1_pao2fio2ratio_max  113397    87.12\n",
       "h1_pao2fio2ratio_min  113397    87.12\n",
       "\n",
       "[73 rows x 2 columns]"
      ]
     },
     "execution_count": 7,
     "metadata": {},
     "output_type": "execute_result"
    }
   ],
   "source": [
    "# checking how many column have a null percentage greater than 50\n",
    "null_counts[null_counts.percent > 50]"
   ]
  },
  {
   "cell_type": "code",
   "execution_count": 23,
   "metadata": {},
   "outputs": [],
   "source": [
    "# to check specific columns during data dictionary\n",
    "# null_counts[16:44]"
   ]
  },
  {
   "cell_type": "markdown",
   "metadata": {},
   "source": [
    "### Data Quality\n",
    "- 20 columns have no null values\n",
    "- 79 columns have greater than 20% nulls\n",
    "- 73 columns have more than half nulls"
   ]
  },
  {
   "cell_type": "markdown",
   "metadata": {},
   "source": [
    "## Visualizing Distribution of the Target Variable\n",
    "- diabetes_mellitus, if the patient has been diagnosed with diabetes\n",
    "- binary value\n",
    "- 1 if diagnosed with diabetes, 0 if not"
   ]
  },
  {
   "cell_type": "code",
   "execution_count": 10,
   "metadata": {},
   "outputs": [
    {
     "data": {
      "text/plain": [
       "Text(0.5, 1.0, 'Distribution of Diabetic Patients')"
      ]
     },
     "execution_count": 10,
     "metadata": {},
     "output_type": "execute_result"
    },
    {
     "data": {
      "image/png": "[encoded data removed]",
      "text/plain": [
       "<Figure size 432x288 with 1 Axes>"
      ]
     },
     "metadata": {
      "needs_background": "light"
     },
     "output_type": "display_data"
    }
   ],
   "source": [
    "sns.histplot(df.diabetes_mellitus)\n",
    "plt.title('Distribution of Diabetic Patients')"
   ]
  },
  {
   "cell_type": "code",
   "execution_count": 11,
   "metadata": {},
   "outputs": [
    {
     "data": {
      "text/plain": [
       "0    102006\n",
       "1     28151\n",
       "Name: diabetes_mellitus, dtype: int64"
      ]
     },
     "execution_count": 11,
     "metadata": {},
     "output_type": "execute_result"
    }
   ],
   "source": [
    "df.diabetes_mellitus.value_counts()"
   ]
  },
  {
   "cell_type": "markdown",
   "metadata": {},
   "source": [
    "## Most patients in the dataset are not diabetic"
   ]
  },
  {
   "cell_type": "code",
   "execution_count": null,
   "metadata": {
    "scrolled": false
   },
   "outputs": [],
   "source": [
    "# while creating the data dictionary\n",
    "#for x in df.columns:\n",
    "#    print(df[x].dtypes, x)"
   ]
  },
  {
   "cell_type": "code",
   "execution_count": null,
   "metadata": {},
   "outputs": [],
   "source": [
    "# df.wbc_apache.max()"
   ]
  },
  {
   "cell_type": "markdown",
   "metadata": {},
   "source": [
    "# 2. Prepping the Data for Exploration and Modeling\n",
    "## First, converting features to the correct data type\n",
    "- some columns are being stored as floats when the values all end in .0, i.e. 103.0\n",
    "- the gender feature can be converted to a binary 0-1 value\n",
    "\n",
    "## Age - Float to Integer"
   ]
  },
  {
   "cell_type": "code",
   "execution_count": 12,
   "metadata": {},
   "outputs": [
    {
     "data": {
      "text/plain": [
       "67.0    3229\n",
       "68.0    3065\n",
       "71.0    3060\n",
       "72.0    2995\n",
       "66.0    2977\n",
       "        ... \n",
       "20.0     473\n",
       "18.0     377\n",
       "17.0     180\n",
       "16.0      85\n",
       "0.0       30\n",
       "Name: age, Length: 75, dtype: int64"
      ]
     },
     "execution_count": 12,
     "metadata": {},
     "output_type": "execute_result"
    }
   ],
   "source": [
    "df.age.value_counts()"
   ]
  },
  {
   "cell_type": "markdown",
   "metadata": {},
   "source": [
    "Note: 4,988 patients have a null value for age. Because there is a total of > 130,000 patients, will impute the null values with the average age "
   ]
  },
  {
   "cell_type": "code",
   "execution_count": 13,
   "metadata": {},
   "outputs": [
    {
     "name": "stdout",
     "output_type": "stream",
     "text": [
      "Average Patient Age: 62.0\n",
      " Median Patient Age: 64.0\n"
     ]
    },
    {
     "data": {
      "image/png": "[encoded data removed]",
      "text/plain": [
       "<Figure size 432x288 with 1 Axes>"
      ]
     },
     "metadata": {
      "needs_background": "light"
     },
     "output_type": "display_data"
    }
   ],
   "source": [
    "sns.histplot(df.age)\n",
    "plt.title('Distribution of Patients Age')\n",
    "\n",
    "print('Average Patient Age:', round(df.age.mean(),0))\n",
    "print(' Median Patient Age:', round(df.age.median(),0))"
   ]
  },
  {
   "cell_type": "code",
   "execution_count": 14,
   "metadata": {},
   "outputs": [],
   "source": [
    "# setting avariable as rounded average age\n",
    "avg_age = round(df.age.mean(),0)\n",
    "\n",
    "# filling null values with the average age\n",
    "df.age = df.age.fillna(avg_age)"
   ]
  },
  {
   "cell_type": "code",
   "execution_count": 15,
   "metadata": {},
   "outputs": [],
   "source": [
    "# age is in years, and all values end in 0 - will be converted to integers\n",
    "df.age = df.astype({'age':'int'})"
   ]
  },
  {
   "cell_type": "markdown",
   "metadata": {},
   "source": [
    "## Gender - String to Boolean"
   ]
  },
  {
   "cell_type": "code",
   "execution_count": 16,
   "metadata": {},
   "outputs": [
    {
     "data": {
      "text/plain": [
       "66"
      ]
     },
     "execution_count": 16,
     "metadata": {},
     "output_type": "execute_result"
    }
   ],
   "source": [
    "# 66 patients have null values for gender\n",
    "# with such an insiginficant amount, will leave them for now\n",
    "df.gender.isnull().sum()"
   ]
  },
  {
   "cell_type": "code",
   "execution_count": 17,
   "metadata": {},
   "outputs": [],
   "source": [
    "df['is_female'] = df.gender.replace({'M':0, 'F':1})"
   ]
  },
  {
   "cell_type": "code",
   "execution_count": 22,
   "metadata": {},
   "outputs": [
    {
     "data": {
      "text/plain": [
       "encounter_id                      0\n",
       "hospital_id                       0\n",
       "age                               0\n",
       "bmi                            4490\n",
       "elective_surgery                  0\n",
       "                               ... \n",
       "leukemia                          0\n",
       "lymphoma                          0\n",
       "solid_tumor_with_metastasis       0\n",
       "diabetes_mellitus                 0\n",
       "is_female                        66\n",
       "Length: 181, dtype: int64"
      ]
     },
     "execution_count": 22,
     "metadata": {},
     "output_type": "execute_result"
    }
   ],
   "source": [
    "df.isnull().sum()"
   ]
  },
  {
   "cell_type": "markdown",
   "metadata": {},
   "source": [
    "### Apache 2 Diagnosis - Removing .0 from Integers"
   ]
  },
  {
   "cell_type": "code",
   "execution_count": 45,
   "metadata": {},
   "outputs": [
    {
     "data": {
      "text/plain": [
       "113.0    16402\n",
       "301.0     9858\n",
       "302.0     8904\n",
       "112.0     5981\n",
       "308.0     5855\n",
       "124.0     5548\n",
       "117.0     5290\n",
       "122.0     5206\n",
       "303.0     5072\n",
       "304.0     4594\n",
       "110.0     4395\n",
       "203.0     3860\n",
       "106.0     3537\n",
       "121.0     3431\n",
       "202.0     3408\n",
       "114.0     3298\n",
       "305.0     3111\n",
       "123.0     2918\n",
       "119.0     2712\n",
       "102.0     2631\n",
       "307.0     2629\n",
       "118.0     2338\n",
       "120.0     1994\n",
       "108.0     1668\n",
       "214.0     1656\n",
       "109.0     1440\n",
       "105.0     1369\n",
       "218.0     1086\n",
       "213.0     1041\n",
       "207.0      973\n",
       "306.0      830\n",
       "217.0      802\n",
       "219.0      714\n",
       "209.0      645\n",
       "101.0      605\n",
       "104.0      580\n",
       "103.0      487\n",
       "115.0      392\n",
       "107.0      300\n",
       "116.0      279\n",
       "215.0      215\n",
       "208.0      214\n",
       "212.0      138\n",
       "216.0       66\n",
       "Name: apache_2_diagnosis, dtype: int64"
      ]
     },
     "execution_count": 45,
     "metadata": {},
     "output_type": "execute_result"
    }
   ],
   "source": [
    "df.apache_2_diagnosis.value_counts()"
   ]
  },
  {
   "cell_type": "code",
   "execution_count": 47,
   "metadata": {},
   "outputs": [
    {
     "data": {
      "text/plain": [
       "1685"
      ]
     },
     "execution_count": 47,
     "metadata": {},
     "output_type": "execute_result"
    }
   ],
   "source": [
    "# rows that have a null value for spache 2 diagnosis\n",
    "df.apache_2_diagnosis.isnull().sum()"
   ]
  },
  {
   "cell_type": "code",
   "execution_count": 51,
   "metadata": {},
   "outputs": [],
   "source": [
    "# can not convert data types with null values in the column, will fill nulls with the average value\n",
    "# setting variable as the average value\n",
    "apache_2_diagnosis_mean = df.apache_2_diagnosis.mean()\n",
    "\n",
    "# filling the 1,685 null values with the average\n",
    "df.apache_2_diagnosis = df.apache_2_diagnosis.fillna(apache_2_diagnosis_mean)\n",
    "\n",
    "# now, can convert the data types to integers without trailing decimals\n",
    "df.apache_2_diagnosis = df.apache_2_diagnosis.astype('int')"
   ]
  },
  {
   "cell_type": "code",
   "execution_count": 52,
   "metadata": {},
   "outputs": [
    {
     "data": {
      "text/plain": [
       "1         113\n",
       "2         108\n",
       "3         122\n",
       "4         203\n",
       "5         119\n",
       "         ... \n",
       "130153    110\n",
       "130154    105\n",
       "130155    114\n",
       "130156    124\n",
       "130157    105\n",
       "Name: apache_2_diagnosis, Length: 130157, dtype: int64"
      ]
     },
     "execution_count": 52,
     "metadata": {},
     "output_type": "execute_result"
    }
   ],
   "source": [
    "# can see no more decimal values\n",
    "df.apache_2_diagnosis"
   ]
  },
  {
   "cell_type": "markdown",
   "metadata": {},
   "source": [
    "## Creating Dummy Variables\n",
    "### ICU Stay Type\n",
    "- this feature has three different categories\n",
    "    - admit - replace with 1\n",
    "    - transfer - replace with 2\n",
    "    - readmit - replace with 3"
   ]
  },
  {
   "cell_type": "code",
   "execution_count": 32,
   "metadata": {},
   "outputs": [
    {
     "data": {
      "text/plain": [
       "admit       124741\n",
       "transfer      4801\n",
       "readmit        615\n",
       "Name: icu_stay_type, dtype: int64"
      ]
     },
     "execution_count": 32,
     "metadata": {},
     "output_type": "execute_result"
    }
   ],
   "source": [
    "# the three categories in icu stay type\n",
    "df.icu_stay_type.value_counts()"
   ]
  },
  {
   "cell_type": "code",
   "execution_count": 37,
   "metadata": {},
   "outputs": [],
   "source": [
    "df.icu_stay_type = df.icu_stay_type.replace({'admit':1, 'transfer':2, 'readmit':3})"
   ]
  },
  {
   "cell_type": "code",
   "execution_count": 38,
   "metadata": {},
   "outputs": [
    {
     "data": {
      "text/plain": [
       "1    124741\n",
       "2      4801\n",
       "3       615\n",
       "Name: icu_stay_type, dtype: int64"
      ]
     },
     "execution_count": 38,
     "metadata": {},
     "output_type": "execute_result"
    }
   ],
   "source": [
    "# the three categories after replacing with 1,2,3\n",
    "df.icu_stay_type.value_counts()"
   ]
  },
  {
   "cell_type": "markdown",
   "metadata": {},
   "source": [
    "## What should be removed?\n",
    "- I will set a threshold of nulls percentage, and remove any columns or rows more than this threshold\n",
    "- starting at 50% nulls, will determine later if a lower or higher threshold is needed"
   ]
  },
  {
   "cell_type": "code",
   "execution_count": 18,
   "metadata": {},
   "outputs": [],
   "source": [
    "# Removing Nulls from Columns\n",
    "# sets thresh hold to 75 percent nulls, if more than %25 nulls it will be removed\n",
    "threshold = df.shape[0] * .50\n",
    "\n",
    "# remove columns with specified threshold\n",
    "df_prepped = df.dropna(axis=1, thresh=threshold)\n",
    "    \n",
    "# Removing Nulls from Rows\n",
    "# sets thresh hold to 75 percent nulls, if more than %25 nulls it will be removed\n",
    "thresh_hold = df.shape[1] * .50\n",
    "\n",
    "# remove rows with specified threshold\n",
    "df_prepped = df.dropna(axis=0,thresh=thresh_hold)"
   ]
  },
  {
   "cell_type": "code",
   "execution_count": 19,
   "metadata": {},
   "outputs": [
    {
     "name": "stdout",
     "output_type": "stream",
     "text": [
      "   The df now has 181 rows with 119850 observations. \n",
      "It originally had 180 columns and 130157 observations before removing nulls above 50% in the columns and rows.\n"
     ]
    }
   ],
   "source": [
    "print('   The df now has', df_prepped.shape[1], 'rows with', df_prepped.shape[0], 'observations. \\nIt originally had 180 columns and 130157 observations before removing nulls above 50% in the columns and rows.')"
   ]
  }
 ],
 "metadata": {
  "kernelspec": {
   "display_name": "Python 3",
   "language": "python",
   "name": "python3"
  },
  "language_info": {
   "codemirror_mode": {
    "name": "ipython",
    "version": 3
   },
   "file_extension": ".py",
   "mimetype": "text/x-python",
   "name": "python",
   "nbconvert_exporter": "python",
   "pygments_lexer": "ipython3",
   "version": "3.7.6"
  }
 },
 "nbformat": 4,
 "nbformat_minor": 4
}
