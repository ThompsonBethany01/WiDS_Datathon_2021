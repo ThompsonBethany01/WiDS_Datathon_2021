{
 "cells": [
  {
   "cell_type": "markdown",
   "metadata": {},
   "source": [
    "# WiDS Datathon 2021, Wrangling the Data\n",
    "## 1. Initial Look at the DF\n",
    "Summarizing the raw df:\n",
    "- what is the shape of the data?\n",
    "- what is the target variable? and its distribution?\n",
    "- how many nulls?\n",
    "- identify outliers/anomalies\n",
    "- and more...\n",
    "\n",
    "## 2. Prepping the Data for Exploration and Modeling\n",
    "Taking care of questions addressed above:\n",
    "- impute or remove nulls\n",
    "- handle outliers\n",
    "- split into train/validate/test\n",
    "\n",
    "## 3. Add Code into Functions in a .py File"
   ]
  },
  {
   "cell_type": "code",
   "execution_count": 84,
   "metadata": {},
   "outputs": [],
   "source": [
    "import pandas as pd\n",
    "import seaborn as sns\n",
    "import matplotlib.pyplot as plt"
   ]
  },
  {
   "cell_type": "code",
   "execution_count": 5,
   "metadata": {},
   "outputs": [],
   "source": [
    "# reading csv file into a pandas dataframe\n",
    "df = pd.read_csv('data/TrainingWiDS2021.csv', index_col=0)"
   ]
  },
  {
   "cell_type": "code",
   "execution_count": 14,
   "metadata": {},
   "outputs": [
    {
     "name": "stdout",
     "output_type": "stream",
     "text": [
      "There are 180 columns and 130157 observations in the df.\n"
     ]
    }
   ],
   "source": [
    "# checking the shape of the data\n",
    "print('There are', df.shape[1], 'columns and', df.shape[0], 'observations in the df.')"
   ]
  },
  {
   "cell_type": "code",
   "execution_count": 16,
   "metadata": {
    "scrolled": false
   },
   "outputs": [
    {
     "name": "stdout",
     "output_type": "stream",
     "text": [
      "Columns in the df are:\n"
     ]
    },
    {
     "data": {
      "text/plain": [
       "['encounter_id',\n",
       " 'hospital_id',\n",
       " 'age',\n",
       " 'bmi',\n",
       " 'elective_surgery',\n",
       " 'ethnicity',\n",
       " 'gender',\n",
       " 'height',\n",
       " 'hospital_admit_source',\n",
       " 'icu_admit_source',\n",
       " 'icu_id',\n",
       " 'icu_stay_type',\n",
       " 'icu_type',\n",
       " 'pre_icu_los_days',\n",
       " 'readmission_status',\n",
       " 'weight',\n",
       " 'albumin_apache',\n",
       " 'apache_2_diagnosis',\n",
       " 'apache_3j_diagnosis',\n",
       " 'apache_post_operative',\n",
       " 'arf_apache',\n",
       " 'bilirubin_apache',\n",
       " 'bun_apache',\n",
       " 'creatinine_apache',\n",
       " 'fio2_apache',\n",
       " 'gcs_eyes_apache',\n",
       " 'gcs_motor_apache',\n",
       " 'gcs_unable_apache',\n",
       " 'gcs_verbal_apache',\n",
       " 'glucose_apache',\n",
       " 'heart_rate_apache',\n",
       " 'hematocrit_apache',\n",
       " 'intubated_apache',\n",
       " 'map_apache',\n",
       " 'paco2_apache',\n",
       " 'paco2_for_ph_apache',\n",
       " 'pao2_apache',\n",
       " 'ph_apache',\n",
       " 'resprate_apache',\n",
       " 'sodium_apache',\n",
       " 'temp_apache',\n",
       " 'urineoutput_apache',\n",
       " 'ventilated_apache',\n",
       " 'wbc_apache',\n",
       " 'd1_diasbp_invasive_max',\n",
       " 'd1_diasbp_invasive_min',\n",
       " 'd1_diasbp_max',\n",
       " 'd1_diasbp_min',\n",
       " 'd1_diasbp_noninvasive_max',\n",
       " 'd1_diasbp_noninvasive_min',\n",
       " 'd1_heartrate_max',\n",
       " 'd1_heartrate_min',\n",
       " 'd1_mbp_invasive_max',\n",
       " 'd1_mbp_invasive_min',\n",
       " 'd1_mbp_max',\n",
       " 'd1_mbp_min',\n",
       " 'd1_mbp_noninvasive_max',\n",
       " 'd1_mbp_noninvasive_min',\n",
       " 'd1_resprate_max',\n",
       " 'd1_resprate_min',\n",
       " 'd1_spo2_max',\n",
       " 'd1_spo2_min',\n",
       " 'd1_sysbp_invasive_max',\n",
       " 'd1_sysbp_invasive_min',\n",
       " 'd1_sysbp_max',\n",
       " 'd1_sysbp_min',\n",
       " 'd1_sysbp_noninvasive_max',\n",
       " 'd1_sysbp_noninvasive_min',\n",
       " 'd1_temp_max',\n",
       " 'd1_temp_min',\n",
       " 'h1_diasbp_invasive_max',\n",
       " 'h1_diasbp_invasive_min',\n",
       " 'h1_diasbp_max',\n",
       " 'h1_diasbp_min',\n",
       " 'h1_diasbp_noninvasive_max',\n",
       " 'h1_diasbp_noninvasive_min',\n",
       " 'h1_heartrate_max',\n",
       " 'h1_heartrate_min',\n",
       " 'h1_mbp_invasive_max',\n",
       " 'h1_mbp_invasive_min',\n",
       " 'h1_mbp_max',\n",
       " 'h1_mbp_min',\n",
       " 'h1_mbp_noninvasive_max',\n",
       " 'h1_mbp_noninvasive_min',\n",
       " 'h1_resprate_max',\n",
       " 'h1_resprate_min',\n",
       " 'h1_spo2_max',\n",
       " 'h1_spo2_min',\n",
       " 'h1_sysbp_invasive_max',\n",
       " 'h1_sysbp_invasive_min',\n",
       " 'h1_sysbp_max',\n",
       " 'h1_sysbp_min',\n",
       " 'h1_sysbp_noninvasive_max',\n",
       " 'h1_sysbp_noninvasive_min',\n",
       " 'h1_temp_max',\n",
       " 'h1_temp_min',\n",
       " 'd1_albumin_max',\n",
       " 'd1_albumin_min',\n",
       " 'd1_bilirubin_max',\n",
       " 'd1_bilirubin_min',\n",
       " 'd1_bun_max',\n",
       " 'd1_bun_min',\n",
       " 'd1_calcium_max',\n",
       " 'd1_calcium_min',\n",
       " 'd1_creatinine_max',\n",
       " 'd1_creatinine_min',\n",
       " 'd1_glucose_max',\n",
       " 'd1_glucose_min',\n",
       " 'd1_hco3_max',\n",
       " 'd1_hco3_min',\n",
       " 'd1_hemaglobin_max',\n",
       " 'd1_hemaglobin_min',\n",
       " 'd1_hematocrit_max',\n",
       " 'd1_hematocrit_min',\n",
       " 'd1_inr_max',\n",
       " 'd1_inr_min',\n",
       " 'd1_lactate_max',\n",
       " 'd1_lactate_min',\n",
       " 'd1_platelets_max',\n",
       " 'd1_platelets_min',\n",
       " 'd1_potassium_max',\n",
       " 'd1_potassium_min',\n",
       " 'd1_sodium_max',\n",
       " 'd1_sodium_min',\n",
       " 'd1_wbc_max',\n",
       " 'd1_wbc_min',\n",
       " 'h1_albumin_max',\n",
       " 'h1_albumin_min',\n",
       " 'h1_bilirubin_max',\n",
       " 'h1_bilirubin_min',\n",
       " 'h1_bun_max',\n",
       " 'h1_bun_min',\n",
       " 'h1_calcium_max',\n",
       " 'h1_calcium_min',\n",
       " 'h1_creatinine_max',\n",
       " 'h1_creatinine_min',\n",
       " 'h1_glucose_max',\n",
       " 'h1_glucose_min',\n",
       " 'h1_hco3_max',\n",
       " 'h1_hco3_min',\n",
       " 'h1_hemaglobin_max',\n",
       " 'h1_hemaglobin_min',\n",
       " 'h1_hematocrit_max',\n",
       " 'h1_hematocrit_min',\n",
       " 'h1_inr_max',\n",
       " 'h1_inr_min',\n",
       " 'h1_lactate_max',\n",
       " 'h1_lactate_min',\n",
       " 'h1_platelets_max',\n",
       " 'h1_platelets_min',\n",
       " 'h1_potassium_max',\n",
       " 'h1_potassium_min',\n",
       " 'h1_sodium_max',\n",
       " 'h1_sodium_min',\n",
       " 'h1_wbc_max',\n",
       " 'h1_wbc_min',\n",
       " 'd1_arterial_pco2_max',\n",
       " 'd1_arterial_pco2_min',\n",
       " 'd1_arterial_ph_max',\n",
       " 'd1_arterial_ph_min',\n",
       " 'd1_arterial_po2_max',\n",
       " 'd1_arterial_po2_min',\n",
       " 'd1_pao2fio2ratio_max',\n",
       " 'd1_pao2fio2ratio_min',\n",
       " 'h1_arterial_pco2_max',\n",
       " 'h1_arterial_pco2_min',\n",
       " 'h1_arterial_ph_max',\n",
       " 'h1_arterial_ph_min',\n",
       " 'h1_arterial_po2_max',\n",
       " 'h1_arterial_po2_min',\n",
       " 'h1_pao2fio2ratio_max',\n",
       " 'h1_pao2fio2ratio_min',\n",
       " 'aids',\n",
       " 'cirrhosis',\n",
       " 'hepatic_failure',\n",
       " 'immunosuppression',\n",
       " 'leukemia',\n",
       " 'lymphoma',\n",
       " 'solid_tumor_with_metastasis',\n",
       " 'diabetes_mellitus']"
      ]
     },
     "execution_count": 16,
     "metadata": {},
     "output_type": "execute_result"
    }
   ],
   "source": [
    "print('Columns in the df are:')\n",
    "df.columns.to_list()"
   ]
  },
  {
   "cell_type": "markdown",
   "metadata": {},
   "source": [
    "### There are a large amount of columns in the data. Will these all be useful? Can some be removed due to poor data quality (high nulls)?"
   ]
  },
  {
   "cell_type": "code",
   "execution_count": 46,
   "metadata": {},
   "outputs": [],
   "source": [
    "# creating dataframe of null count for each column\n",
    "null_counts = pd.DataFrame(df.isnull().sum())\n",
    "\n",
    "# renaming count column\n",
    "null_counts.columns = ['nulls']"
   ]
  },
  {
   "cell_type": "code",
   "execution_count": 56,
   "metadata": {},
   "outputs": [],
   "source": [
    "# creating column in null counts for the percentage of the column that is nulls\n",
    "null_counts['percent'] = round((null_counts.nulls / df.shape[0]) * 100,2)"
   ]
  },
  {
   "cell_type": "code",
   "execution_count": 72,
   "metadata": {},
   "outputs": [
    {
     "data": {
      "text/html": [
       "<div>\n",
       "<style scoped>\n",
       "    .dataframe tbody tr th:only-of-type {\n",
       "        vertical-align: middle;\n",
       "    }\n",
       "\n",
       "    .dataframe tbody tr th {\n",
       "        vertical-align: top;\n",
       "    }\n",
       "\n",
       "    .dataframe thead th {\n",
       "        text-align: right;\n",
       "    }\n",
       "</style>\n",
       "<table border=\"1\" class=\"dataframe\">\n",
       "  <thead>\n",
       "    <tr style=\"text-align: right;\">\n",
       "      <th></th>\n",
       "      <th>nulls</th>\n",
       "      <th>percent</th>\n",
       "    </tr>\n",
       "  </thead>\n",
       "  <tbody>\n",
       "    <tr>\n",
       "      <th>albumin_apache</th>\n",
       "      <td>78163</td>\n",
       "      <td>60.05</td>\n",
       "    </tr>\n",
       "    <tr>\n",
       "      <th>bilirubin_apache</th>\n",
       "      <td>82560</td>\n",
       "      <td>63.43</td>\n",
       "    </tr>\n",
       "    <tr>\n",
       "      <th>fio2_apache</th>\n",
       "      <td>99720</td>\n",
       "      <td>76.62</td>\n",
       "    </tr>\n",
       "    <tr>\n",
       "      <th>paco2_apache</th>\n",
       "      <td>99720</td>\n",
       "      <td>76.62</td>\n",
       "    </tr>\n",
       "    <tr>\n",
       "      <th>paco2_for_ph_apache</th>\n",
       "      <td>99720</td>\n",
       "      <td>76.62</td>\n",
       "    </tr>\n",
       "    <tr>\n",
       "      <th>...</th>\n",
       "      <td>...</td>\n",
       "      <td>...</td>\n",
       "    </tr>\n",
       "    <tr>\n",
       "      <th>h1_arterial_ph_min</th>\n",
       "      <td>107849</td>\n",
       "      <td>82.86</td>\n",
       "    </tr>\n",
       "    <tr>\n",
       "      <th>h1_arterial_po2_max</th>\n",
       "      <td>107445</td>\n",
       "      <td>82.55</td>\n",
       "    </tr>\n",
       "    <tr>\n",
       "      <th>h1_arterial_po2_min</th>\n",
       "      <td>107445</td>\n",
       "      <td>82.55</td>\n",
       "    </tr>\n",
       "    <tr>\n",
       "      <th>h1_pao2fio2ratio_max</th>\n",
       "      <td>113397</td>\n",
       "      <td>87.12</td>\n",
       "    </tr>\n",
       "    <tr>\n",
       "      <th>h1_pao2fio2ratio_min</th>\n",
       "      <td>113397</td>\n",
       "      <td>87.12</td>\n",
       "    </tr>\n",
       "  </tbody>\n",
       "</table>\n",
       "<p>73 rows × 2 columns</p>\n",
       "</div>"
      ],
      "text/plain": [
       "                       nulls  percent\n",
       "albumin_apache         78163    60.05\n",
       "bilirubin_apache       82560    63.43\n",
       "fio2_apache            99720    76.62\n",
       "paco2_apache           99720    76.62\n",
       "paco2_for_ph_apache    99720    76.62\n",
       "...                      ...      ...\n",
       "h1_arterial_ph_min    107849    82.86\n",
       "h1_arterial_po2_max   107445    82.55\n",
       "h1_arterial_po2_min   107445    82.55\n",
       "h1_pao2fio2ratio_max  113397    87.12\n",
       "h1_pao2fio2ratio_min  113397    87.12\n",
       "\n",
       "[73 rows x 2 columns]"
      ]
     },
     "execution_count": 72,
     "metadata": {},
     "output_type": "execute_result"
    }
   ],
   "source": [
    "# checking how many column have a null percentage greater than 50\n",
    "null_counts[null_counts.percent > 50]"
   ]
  },
  {
   "cell_type": "markdown",
   "metadata": {},
   "source": [
    "### Data Quality\n",
    "- 20 columns have no null values\n",
    "- 79 columns have greater than 20% nulls\n",
    "- 73 columns have more than half nulls\n",
    "\n",
    "## What should be removed?\n",
    "- I will set a threshold of nulls percentage, and remove any columns or rows more than this threshold\n",
    "- starting at 50% nulls, will determine later if a lower or higher threshold is needed"
   ]
  },
  {
   "cell_type": "code",
   "execution_count": 73,
   "metadata": {},
   "outputs": [],
   "source": [
    "# Removing Nulls from Columns\n",
    "# sets thresh hold to 75 percent nulls, if more than %25 nulls it will be removed\n",
    "threshold = df.shape[0] * .50\n",
    "\n",
    "# remove columns with specified threshold\n",
    "df = df.dropna(axis=1, thresh=threshold)\n",
    "    \n",
    "# Removing Nulls from Rows\n",
    "# sets thresh hold to 75 percent nulls, if more than %25 nulls it will be removed\n",
    "thresh_hold = df.shape[1] * .50\n",
    "\n",
    "# remove rows with specified threshold\n",
    "df = df.dropna(axis=0,thresh=thresh_hold)"
   ]
  },
  {
   "cell_type": "code",
   "execution_count": 81,
   "metadata": {},
   "outputs": [
    {
     "name": "stdout",
     "output_type": "stream",
     "text": [
      "   The df now has 107 rows with 129962 observations. \n",
      "It originally had 180 columns and 130157 observations before removing nulls above 50% in the columns and rows.\n"
     ]
    }
   ],
   "source": [
    "print('   The df now has', df.shape[1], 'rows with', df.shape[0], 'observations. \\nIt originally had 180 columns and 130157 observations before removing nulls above 50% in the columns and rows.')"
   ]
  },
  {
   "cell_type": "markdown",
   "metadata": {},
   "source": [
    "## Visualizing Distribution of the Target Variable\n",
    "- diabetes_mellitus, if the patient has been diagnosed with diabetes\n",
    "- binary value\n",
    "- 1 if diagnosed with diabetes, 0 if not"
   ]
  },
  {
   "cell_type": "code",
   "execution_count": 90,
   "metadata": {},
   "outputs": [
    {
     "data": {
      "text/plain": [
       "Text(0.5, 1.0, 'Distribution of Diabetic Patients')"
      ]
     },
     "execution_count": 90,
     "metadata": {},
     "output_type": "execute_result"
    },
    {
     "data": {
      "image/png": "[encoded data removed]",
      "text/plain": [
       "<Figure size 432x288 with 1 Axes>"
      ]
     },
     "metadata": {
      "needs_background": "light"
     },
     "output_type": "display_data"
    }
   ],
   "source": [
    "sns.histplot(df.diabetes_mellitus)\n",
    "plt.title('Distribution of Diabetic Patients')"
   ]
  },
  {
   "cell_type": "code",
   "execution_count": 91,
   "metadata": {},
   "outputs": [
    {
     "data": {
      "text/plain": [
       "0    101837\n",
       "1     28125\n",
       "Name: diabetes_mellitus, dtype: int64"
      ]
     },
     "execution_count": 91,
     "metadata": {},
     "output_type": "execute_result"
    }
   ],
   "source": [
    "df.diabetes_mellitus.value_counts()"
   ]
  },
  {
   "cell_type": "markdown",
   "metadata": {},
   "source": [
    "## Most patients in the dataset are not diabetic"
   ]
  }
 ],
 "metadata": {
  "kernelspec": {
   "display_name": "Python 3",
   "language": "python",
   "name": "python3"
  },
  "language_info": {
   "codemirror_mode": {
    "name": "ipython",
    "version": 3
   },
   "file_extension": ".py",
   "mimetype": "text/x-python",
   "name": "python",
   "nbconvert_exporter": "python",
   "pygments_lexer": "ipython3",
   "version": "3.7.6"
  }
 },
 "nbformat": 4,
 "nbformat_minor": 4
}
